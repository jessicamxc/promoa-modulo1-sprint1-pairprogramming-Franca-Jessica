{
 "cells": [
  {
   "cell_type": "markdown",
   "metadata": {},
   "source": [
    "Crear un diccionario vacío\n",
    "Descripción: Crea un diccionario vacío sin ningún par clave-valor."
   ]
  },
  {
   "cell_type": "code",
   "execution_count": 2,
   "metadata": {},
   "outputs": [],
   "source": [
    "profesiones = {}"
   ]
  },
  {
   "cell_type": "markdown",
   "metadata": {},
   "source": [
    "Crear un diccionario con elementos\n",
    "Descripción: Crea un diccionario con pares clave-valor predefinidos. Definir el diccionario con las claves y valores que querais. NOTA El diccionario debe tener al menos 5 pares de clave:valor."
   ]
  },
  {
   "cell_type": "code",
   "execution_count": 3,
   "metadata": {},
   "outputs": [],
   "source": [
    "profesiones = {\"Manuel\" : \"Medico\",\n",
    "               \"Francisco\": \"Profesor\",\n",
    "               \"Maria\" : \"Veterinaria\",\n",
    "               \"Juana\":  \"Dependienta\",\n",
    "               \"Lucia\" : \"Psicologa\"\n",
    "               }"
   ]
  },
  {
   "cell_type": "markdown",
   "metadata": {},
   "source": [
    "Acceder al valor de una clave en un diccionario\n",
    "Descripción: Usando el diccionario creado en el paso anterior, obtén el valor correspondiente a una clave específica que indique el usuario (debereis usar la función input() para preguntar al usuario)."
   ]
  },
  {
   "cell_type": "code",
   "execution_count": 4,
   "metadata": {},
   "outputs": [
    {
     "data": {
      "text/plain": [
       "'Medico'"
      ]
     },
     "execution_count": 4,
     "metadata": {},
     "output_type": "execute_result"
    }
   ],
   "source": [
    "clave = input (\"Introduce un nombre: \")\n",
    "profesiones[clave]"
   ]
  },
  {
   "cell_type": "markdown",
   "metadata": {},
   "source": [
    "Agregar un nuevo par clave-valor a un diccionario\n",
    "Descripción: Usando el diccionario creado en el ejercicio 2, agrega un nuevo par clave-valor."
   ]
  },
  {
   "cell_type": "code",
   "execution_count": 5,
   "metadata": {},
   "outputs": [
    {
     "data": {
      "text/plain": [
       "{'Manuel': 'Medico',\n",
       " 'Francisco': 'Profesor',\n",
       " 'Maria': 'Veterinaria',\n",
       " 'Juana': 'Dependienta',\n",
       " 'Lucia': 'Psicologa',\n",
       " 'Marta': 'Diseñadora'}"
      ]
     },
     "execution_count": 5,
     "metadata": {},
     "output_type": "execute_result"
    }
   ],
   "source": [
    "actualizar = {'Marta': 'Diseñadora'}\n",
    "profesiones.update(actualizar)\n",
    "profesiones"
   ]
  },
  {
   "cell_type": "markdown",
   "metadata": {},
   "source": [
    "Actualizar el valor de una clave en un diccionario\n",
    "Descripción: Usando el diccionario creado en el ejercicio 2, actualiza el valor correspondiente a una clave existente. Ejemplo:"
   ]
  },
  {
   "cell_type": "code",
   "execution_count": 6,
   "metadata": {},
   "outputs": [
    {
     "data": {
      "text/plain": [
       "{'Manuel': 'Medico',\n",
       " 'Francisco': 'Profesor',\n",
       " 'Maria': 'Veterinaria',\n",
       " 'Juana': 'Dependienta',\n",
       " 'Lucia': 'Barrendera',\n",
       " 'Marta': 'Diseñadora'}"
      ]
     },
     "execution_count": 6,
     "metadata": {},
     "output_type": "execute_result"
    }
   ],
   "source": [
    "# dado el siguiente diccionario\n",
    "{'nombre': 'Ana', 'edad': 25, 'ciudad': 'Madrid', 'hijos': 1}\n",
    "\n",
    "# el ouptut esperado es: (ha cambiado el valor de la clave edad)\n",
    "{'nombre': 'Ana', 'edad': 40, 'ciudad': 'Madrid', 'hijos': 1}\n",
    "\n",
    "\n",
    "profesiones[\"Lucia\"] = \"Barrendera\"\n",
    "profesiones"
   ]
  },
  {
   "cell_type": "markdown",
   "metadata": {},
   "source": [
    "Eliminar un par clave-valor de un diccionario\n",
    "Descripción: Usando el diccionario creado en el ejercicio 2, elimina un par clave-valor específico que indique el usuario (debereis usar la función input() para preguntar al usuario)."
   ]
  },
  {
   "cell_type": "code",
   "execution_count": 9,
   "metadata": {},
   "outputs": [
    {
     "data": {
      "text/plain": [
       "{'Maria': 'Veterinaria',\n",
       " 'Juana': 'Dependienta',\n",
       " 'Lucia': 'Barrendera',\n",
       " 'Marta': 'Diseñadora'}"
      ]
     },
     "execution_count": 9,
     "metadata": {},
     "output_type": "execute_result"
    }
   ],
   "source": [
    "eliminar = input('A quien quieres eliminar?: ')\n",
    "\n",
    "profesiones.pop(eliminar)\n",
    "profesiones\n"
   ]
  },
  {
   "cell_type": "markdown",
   "metadata": {},
   "source": [
    "Verificar si una clave está presente en un diccionario\n",
    "Descripción: Usando el diccionario creado en el ejercicio 2, verifica si una clave específica está presente en él. La clave a buscar debe ser pasada por el usuario, debereis usar un input()."
   ]
  },
  {
   "cell_type": "code",
   "execution_count": 12,
   "metadata": {},
   "outputs": [
    {
     "data": {
      "text/plain": [
       "True"
      ]
     },
     "execution_count": 12,
     "metadata": {},
     "output_type": "execute_result"
    }
   ],
   "source": [
    "consulta = input(\"Quien quieres consultar?: \")\n",
    "\n",
    "consulta in profesiones"
   ]
  },
  {
   "cell_type": "markdown",
   "metadata": {},
   "source": [
    "Descripción: Usando el diccionario creado en el ejercicio 2, obtén una lista con todas las claves que contiene."
   ]
  },
  {
   "cell_type": "code",
   "execution_count": 14,
   "metadata": {},
   "outputs": [
    {
     "data": {
      "text/plain": [
       "['Maria', 'Juana', 'Lucia', 'Marta']"
      ]
     },
     "execution_count": 14,
     "metadata": {},
     "output_type": "execute_result"
    }
   ],
   "source": [
    "list(profesiones.keys())"
   ]
  },
  {
   "cell_type": "markdown",
   "metadata": {},
   "source": [
    "Descripción: Usando el diccionario creado en el ejercicio 2, obtén una lista con todos los valores que contiene."
   ]
  },
  {
   "cell_type": "code",
   "execution_count": 15,
   "metadata": {},
   "outputs": [
    {
     "data": {
      "text/plain": [
       "['Veterinaria', 'Dependienta', 'Barrendera', 'Diseñadora']"
      ]
     },
     "execution_count": 15,
     "metadata": {},
     "output_type": "execute_result"
    }
   ],
   "source": [
    "list(profesiones.values())"
   ]
  },
  {
   "cell_type": "markdown",
   "metadata": {},
   "source": [
    "Descripción: Usando el diccionario creado en el ejercicio 2, obten el valor correspondiente a una clave. Si la clave no existe, establece un valor predeterminado y devuelve dicho valor."
   ]
  },
  {
   "cell_type": "code",
   "execution_count": 16,
   "metadata": {},
   "outputs": [
    {
     "data": {
      "text/plain": [
       "'No existe'"
      ]
     },
     "execution_count": 16,
     "metadata": {},
     "output_type": "execute_result"
    }
   ],
   "source": [
    "profesiones.setdefault(\"Franca\", \"No existe\")"
   ]
  },
  {
   "cell_type": "markdown",
   "metadata": {},
   "source": [
    "Manipulación de un diccionario utilizando pop() y popitem()\n",
    "Descripción: Usando el diccionario creado en el ejercicio 2, realiza operaciones de eliminación utilizando pop() y popitem(), y observa cómo afectan al diccionario."
   ]
  },
  {
   "cell_type": "code",
   "execution_count": 17,
   "metadata": {},
   "outputs": [
    {
     "data": {
      "text/plain": [
       "{'Maria': 'Veterinaria',\n",
       " 'Juana': 'Dependienta',\n",
       " 'Lucia': 'Barrendera',\n",
       " 'Marta': 'Diseñadora',\n",
       " 'Franca': 'No existe'}"
      ]
     },
     "execution_count": 17,
     "metadata": {},
     "output_type": "execute_result"
    }
   ],
   "source": [
    "profesiones"
   ]
  },
  {
   "cell_type": "code",
   "execution_count": 18,
   "metadata": {},
   "outputs": [
    {
     "data": {
      "text/plain": [
       "{'Juana': 'Dependienta',\n",
       " 'Lucia': 'Barrendera',\n",
       " 'Marta': 'Diseñadora',\n",
       " 'Franca': 'No existe'}"
      ]
     },
     "execution_count": 18,
     "metadata": {},
     "output_type": "execute_result"
    }
   ],
   "source": [
    "profesiones.pop(\"Maria\")\n",
    "profesiones"
   ]
  },
  {
   "cell_type": "code",
   "execution_count": 20,
   "metadata": {},
   "outputs": [
    {
     "data": {
      "text/plain": [
       "{'Juana': 'Dependienta', 'Lucia': 'Barrendera', 'Marta': 'Diseñadora'}"
      ]
     },
     "execution_count": 20,
     "metadata": {},
     "output_type": "execute_result"
    }
   ],
   "source": [
    "profesiones.popitem()\n",
    "profesiones"
   ]
  }
 ],
 "metadata": {
  "kernelspec": {
   "display_name": "Python 3",
   "language": "python",
   "name": "python3"
  },
  "language_info": {
   "codemirror_mode": {
    "name": "ipython",
    "version": 3
   },
   "file_extension": ".py",
   "mimetype": "text/x-python",
   "name": "python",
   "nbconvert_exporter": "python",
   "pygments_lexer": "ipython3",
   "version": "3.11.5"
  }
 },
 "nbformat": 4,
 "nbformat_minor": 2
}
